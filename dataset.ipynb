{
 "cells": [
  {
   "cell_type": "code",
   "execution_count": 2,
   "metadata": {},
   "outputs": [
    {
     "name": "stderr",
     "output_type": "stream",
     "text": [
      "/Users/tittaya/.pyenv/versions/anaconda3-5.3.1/lib/python3.7/site-packages/tqdm/autonotebook/__init__.py:18: TqdmExperimentalWarning: Using `tqdm.autonotebook.tqdm` in notebook mode. Use `tqdm.tqdm` instead to force console mode (e.g. in jupyter console)\n",
      "  \" (e.g. in jupyter console)\", TqdmExperimentalWarning)\n",
      "I0901 01:47:39.511119 4637461952 file_utils.py:39] PyTorch version 1.2.0 available.\n",
      "/Users/tittaya/.pyenv/versions/anaconda3-5.3.1/lib/python3.7/site-packages/tensorflow/python/framework/dtypes.py:526: FutureWarning: Passing (type, 1) or '1type' as a synonym of type is deprecated; in a future version of numpy, it will be understood as (type, (1,)) / '(1,)type'.\n",
      "  _np_qint8 = np.dtype([(\"qint8\", np.int8, 1)])\n",
      "/Users/tittaya/.pyenv/versions/anaconda3-5.3.1/lib/python3.7/site-packages/tensorflow/python/framework/dtypes.py:527: FutureWarning: Passing (type, 1) or '1type' as a synonym of type is deprecated; in a future version of numpy, it will be understood as (type, (1,)) / '(1,)type'.\n",
      "  _np_quint8 = np.dtype([(\"quint8\", np.uint8, 1)])\n",
      "/Users/tittaya/.pyenv/versions/anaconda3-5.3.1/lib/python3.7/site-packages/tensorflow/python/framework/dtypes.py:528: FutureWarning: Passing (type, 1) or '1type' as a synonym of type is deprecated; in a future version of numpy, it will be understood as (type, (1,)) / '(1,)type'.\n",
      "  _np_qint16 = np.dtype([(\"qint16\", np.int16, 1)])\n",
      "/Users/tittaya/.pyenv/versions/anaconda3-5.3.1/lib/python3.7/site-packages/tensorflow/python/framework/dtypes.py:529: FutureWarning: Passing (type, 1) or '1type' as a synonym of type is deprecated; in a future version of numpy, it will be understood as (type, (1,)) / '(1,)type'.\n",
      "  _np_quint16 = np.dtype([(\"quint16\", np.uint16, 1)])\n",
      "/Users/tittaya/.pyenv/versions/anaconda3-5.3.1/lib/python3.7/site-packages/tensorflow/python/framework/dtypes.py:530: FutureWarning: Passing (type, 1) or '1type' as a synonym of type is deprecated; in a future version of numpy, it will be understood as (type, (1,)) / '(1,)type'.\n",
      "  _np_qint32 = np.dtype([(\"qint32\", np.int32, 1)])\n",
      "/Users/tittaya/.pyenv/versions/anaconda3-5.3.1/lib/python3.7/site-packages/tensorflow/python/framework/dtypes.py:535: FutureWarning: Passing (type, 1) or '1type' as a synonym of type is deprecated; in a future version of numpy, it will be understood as (type, (1,)) / '(1,)type'.\n",
      "  np_resource = np.dtype([(\"resource\", np.ubyte, 1)])\n",
      "/Users/tittaya/.pyenv/versions/anaconda3-5.3.1/lib/python3.7/site-packages/tensorboard/compat/tensorflow_stub/dtypes.py:541: FutureWarning: Passing (type, 1) or '1type' as a synonym of type is deprecated; in a future version of numpy, it will be understood as (type, (1,)) / '(1,)type'.\n",
      "  _np_qint8 = np.dtype([(\"qint8\", np.int8, 1)])\n",
      "/Users/tittaya/.pyenv/versions/anaconda3-5.3.1/lib/python3.7/site-packages/tensorboard/compat/tensorflow_stub/dtypes.py:542: FutureWarning: Passing (type, 1) or '1type' as a synonym of type is deprecated; in a future version of numpy, it will be understood as (type, (1,)) / '(1,)type'.\n",
      "  _np_quint8 = np.dtype([(\"quint8\", np.uint8, 1)])\n",
      "/Users/tittaya/.pyenv/versions/anaconda3-5.3.1/lib/python3.7/site-packages/tensorboard/compat/tensorflow_stub/dtypes.py:543: FutureWarning: Passing (type, 1) or '1type' as a synonym of type is deprecated; in a future version of numpy, it will be understood as (type, (1,)) / '(1,)type'.\n",
      "  _np_qint16 = np.dtype([(\"qint16\", np.int16, 1)])\n",
      "/Users/tittaya/.pyenv/versions/anaconda3-5.3.1/lib/python3.7/site-packages/tensorboard/compat/tensorflow_stub/dtypes.py:544: FutureWarning: Passing (type, 1) or '1type' as a synonym of type is deprecated; in a future version of numpy, it will be understood as (type, (1,)) / '(1,)type'.\n",
      "  _np_quint16 = np.dtype([(\"quint16\", np.uint16, 1)])\n",
      "/Users/tittaya/.pyenv/versions/anaconda3-5.3.1/lib/python3.7/site-packages/tensorboard/compat/tensorflow_stub/dtypes.py:545: FutureWarning: Passing (type, 1) or '1type' as a synonym of type is deprecated; in a future version of numpy, it will be understood as (type, (1,)) / '(1,)type'.\n",
      "  _np_qint32 = np.dtype([(\"qint32\", np.int32, 1)])\n",
      "/Users/tittaya/.pyenv/versions/anaconda3-5.3.1/lib/python3.7/site-packages/tensorboard/compat/tensorflow_stub/dtypes.py:550: FutureWarning: Passing (type, 1) or '1type' as a synonym of type is deprecated; in a future version of numpy, it will be understood as (type, (1,)) / '(1,)type'.\n",
      "  np_resource = np.dtype([(\"resource\", np.ubyte, 1)])\n"
     ]
    }
   ],
   "source": [
    "import pandas as pd\n",
    "import json\n",
    "\n",
    "import os\n",
    "import torch\n",
    "import joblib\n",
    "from cdqa.reader import BertProcessor, BertQA\n",
    "from cdqa.utils.download import download_squad\n",
    "from nltk.tokenize import sent_tokenize"
   ]
  },
  {
   "cell_type": "code",
   "execution_count": 8,
   "metadata": {},
   "outputs": [],
   "source": [
    "with open(\"./data/n2c2-community-annotations_2010-fan-why-QA/relations_whyqa_ann-v7-share.json\") as json_file:\n",
    "    data = json.load(json_file)"
   ]
  },
  {
   "cell_type": "code",
   "execution_count": 9,
   "metadata": {},
   "outputs": [
    {
     "name": "stdout",
     "output_type": "stream",
     "text": [
      "100\n",
      "38\n"
     ]
    }
   ],
   "source": [
    "print(len(data['data'][0]['paragraphs'][0:100]))\n",
    "print(len(data['data'][0]['paragraphs'][100:]))\n",
    "\n",
    "train = data['data'][0]['paragraphs'][0:100]\n",
    "test = data['data'][0]['paragraphs'][100:]"
   ]
  },
  {
   "cell_type": "code",
   "execution_count": 15,
   "metadata": {},
   "outputs": [],
   "source": [
    "# test[1]"
   ]
  },
  {
   "cell_type": "code",
   "execution_count": 16,
   "metadata": {},
   "outputs": [],
   "source": [
    "squad_fomat = {\n",
    "    \"data\": [\n",
    "        {   \"title\": \"ehrQA\",\n",
    "            \"paragraphs\": [\n",
    "            ]\n",
    "        }\n",
    "    ]\n",
    "}\n",
    "\n",
    "squad_fomat[\"data\"][0][\"paragraphs\"] = test"
   ]
  },
  {
   "cell_type": "code",
   "execution_count": 17,
   "metadata": {},
   "outputs": [],
   "source": [
    "# with open('data/test.json', 'w') as outfile:\n",
    "#     json.dump(squad_fomat, outfile)"
   ]
  },
  {
   "cell_type": "code",
   "execution_count": 53,
   "metadata": {},
   "outputs": [],
   "source": [
    "file_n = 30"
   ]
  },
  {
   "cell_type": "code",
   "execution_count": 54,
   "metadata": {},
   "outputs": [
    {
     "name": "stdout",
     "output_type": "stream",
     "text": [
      "Admission Date :\n",
      "2020-05-23\n",
      "Discharge Date :\n",
      "2020-05-29\n",
      "Date of Birth :\n",
      "1955-11-14\n",
      "Sex :\n",
      "F\n",
      "Service :\n",
      "MEDICINE\n",
      "Allergies :\n",
      "Patient recorded as having No Known Allergies to Drugs\n",
      "Attending : Sabrina Q. G. King , M.D.\n",
      "Chief Complaint : change in mental status\n",
      "Major Surgical or Invasive Procedure :\n",
      "Intubation\n",
      "Central line placement\n",
      "History of Present Illness :\n",
      "64 F with breast CA s/p mastectomy 17 y ago with local recurrence leading to paralysis of L arm ~ 5-6 y ago .\n",
      "Now declining gradually since January ( 30 lbs weight loss , becoming more confused , decreased appetite ).\n",
      "Patient declined workup / imaging for mets as outpatient .\n",
      "Moving toward home hospice .\n",
      "Over the last 2 weeks , husband reports patient becoming increasingly weak , unable to leave bed , confused , unable to feed herself .\n",
      "Seen by VNA and noted to be tachycardic and sent to Middleboroughfor evaluation .\n",
      "Now sent in to Amesbury by VNA because of asymptomatic sinus tachycardia .\n",
      "Transferred here for workup for CNS mets and admission .\n",
      "In John , VS - 99.6 , 135 , 122/65 , 20 .\n",
      "Neurology evaluated pt and felt to have intact brainstem reflexes but poor prognosis .\n",
      "Neurosurg evaluated pt and felt to not be surgical candidate ; recommended dilantin load and decadron .\n",
      "Received lorazepam prior to CT scan .\n",
      "Intubated for MS changes and lethargy and concern for airway protection .\n",
      "Post intubation , hypotensive and started on dopamine and transitioned to levophed .\n",
      "Received vancomycin / levafloxacin at OSH .\n",
      "Received metronidazole at Ricky in Mediplex Rehab Hospital .\n",
      "In CMED CCU , pt. responsive to noxious stimuli only .\n",
      "History obtained from husband as above .\n",
      "Past Medical History :\n",
      "PMHx :\n",
      "1. Left breast status post radical mastectomy in 2002 with adjuvant Tamoxifen for five years .\n",
      "This was followed by later development of lymphedema and left arm ( distal > proximal ) weakness due to metastatic disease in left axilla ensheathing nerve plexus .\n",
      "Treated with course of local XRT in Springfield Municipal Hospital and Tamoxifen .\n",
      "Switched to Arimedex in 2019-02-10 due to vaginal bleeding on Tamoxifen .\n",
      "Self discontinued Arimedex last month .\n",
      "No prior history of intracranial disease .\n",
      "2. Metastatic disease in left arm , brachial plexus resulting in left arm paresis , as above\n",
      "Social History :\n",
      "Married , lives with husband .\n",
      "Victoria 't worked since 2008 , prior to that worked in a school cafeteria .\n",
      "+ children ( husband Gracia 't quantify ).\n",
      "Social smoker in her youth .\n",
      "Distant smoking history .\n",
      "Occasional alcohol use .\n",
      "Family History :\n",
      "Maternal aunt with breast cancer .\n",
      "Mother aged 85 , alive and well .\n",
      "Three healthy siblings .\n",
      "Father deceased from complications from MS .\n",
      "Physical Exam :\n",
      "T 99.8\n",
      "HR 124\n",
      "SBP 135/58\n",
      "RR 16\n",
      "Ox 100\n",
      "Gen :\n",
      "Cachectic , lays with eyes closed .\n",
      "HEENT :\n",
      "Temporal wasting .\n",
      "NC/AT .\n",
      "Anicteric .\n",
      "Mucosa dry .\n",
      "Neck :\n",
      "Supple .\n",
      "Lungs :\n",
      "Clear anterolaterally .\n",
      "No R/R/W .\n",
      "Cardiac :\n",
      "Tachycardic , regular .\n",
      "S1/S2 .\n",
      "No M/R/G .\n",
      "Abd :\n",
      "Soft , NT , ND , + NABS .\n",
      "No rebound or guarding .\n",
      "No HSM .\n",
      "Extrem :\n",
      "Wasted .\n",
      "Legs are rigid .\n",
      "Pertinent Results :\n",
      "Head CT There is diffuse metastatic disease .\n",
      "Three discrete lesions are seen within the left frontal , right occipital , and left parietal lobes with significant surrounding vasogenic edema .\n",
      "The largest single lesion measures 3.7 x 3.4 cm .\n",
      "There is moderate surrounding edema with 10 mm rightward shift of the normally midline structures with associated mass effect on the lateral ventricles .\n",
      "The basilar cistern is preserved and there is no uncal herniation .\n",
      "The osseous structures are unremarkable .\n",
      "The paranasal sinuses and mastoid air cells are well aerated .\n",
      "CT torso\n",
      "1. Right middle lobe lung nodule , suspicious for metastatic disease .\n",
      "2. Right upper lobe lung opacities which appear confluent , most suggestive of infectious etiology , however , cannot entirely exclude metastatic lesions .\n",
      "Recommend follow up CT to ensure resolution .\n",
      "3. Multiple hypodense liver lesions which are mildly enhancing , most consistent with metastatic disease .\n",
      "4. Bilateral small pleural effusion , which certainly could be malignant given today 's findings and history of breast cancer .\n",
      "5. No evidence of bony metastases .\n",
      "6. Uterine cavity fluid of unclear etiology .\n",
      "Brief Hospital Course :\n",
      "Metastatic breast CA - Large brain mets with midline shift .\n",
      "Intubated for airway protection .\n",
      "Treated with IV dilantin and decadron .\n",
      "Patient mental status improved slightly .\n",
      "After discussion with primary oncologist goals of care where change to comfort .\n",
      "Dilantin was stopped .\n",
      "Will go home with prn morphine , ativan , and PR decadron .\n",
      "Pnuemonia - Possible aspiration .\n",
      "Completed a 7 day course of vancomycin and levofloxacin .\n",
      "Medications on Admission : none\n",
      "Discharge Medications :\n",
      "1. Morphine Concentrate 20 mg / mL Solution Sig : 2.5-20 mg PO Q1-2H (  ) as needed for pain .\n",
      "Disp :* 30 ml * Refills :* 0 *\n",
      "2. Lorazepam 0.5 mg Tablet Sig : 0.5-2 mg PO Q4-6H ( every 4 to 6 hours ) as needed for aggitation / seizure : Please dispense liquid .\n",
      "Disp :* 50 ml * Refills :* 0 *\n",
      "3. Dexamethasone 4 mg Tablet Sig : Two ( 2 ) Tablet PO Q8H ( every 8 hours ) : please give 8 mg suppository .\n",
      "Disp :* 90 suppository * Refills :* 0 *\n",
      "Discharge Disposition :\n",
      "Home with Service\n",
      "Discharge Diagnosis :\n",
      "Breast cancer\n",
      "Discharge Condition :\n",
      "Stable\n",
      "Discharge Instructions :\n",
      "Please call hospice for questions .\n",
      "Followup Instructions : as needed\n",
      "Ramirez Mary Lenora MD 74-114\n",
      "Completed by : Tony Cervantes MD 43-424 2020-05-29 @ 0951\n",
      "Signed electronically by : DR. Patricia Noland on : SAT 2020-05-30 9:10 AM\n",
      "( End of Report )\n"
     ]
    }
   ],
   "source": [
    "print(test[file_n]['context'])"
   ]
  },
  {
   "cell_type": "code",
   "execution_count": 55,
   "metadata": {},
   "outputs": [
    {
     "data": {
      "text/plain": [
       "[{'question_template': 'C/ADT event => clinical indication',\n",
       "  'question': 'Why was the patient admitted?',\n",
       "  'id': 234,\n",
       "  'answers': [{'text': 'asymptomatic sinus tachycardia', 'answer_start': 924}],\n",
       "  'is_impossible': False},\n",
       " {'question_template': 'abnormal manifestation => disease caused',\n",
       "  'question': 'Why the patient developed lymphedema and left arm (distal > proximal) weakness?',\n",
       "  'id': 235,\n",
       "  'answers': [{'text': 'metastatic disease in left axilla ensheathing nerve plexus',\n",
       "    'answer_start': 1874}],\n",
       "  'is_impossible': False},\n",
       " {'question_template': 'medication avoidance => adverse effect',\n",
       "  'question': 'Why the patient was switched from Tamoxifen to Arimedex?',\n",
       "  'id': 236,\n",
       "  'answers': [{'text': 'vaginal bleeding', 'answer_start': 2060}],\n",
       "  'is_impossible': False}]"
      ]
     },
     "execution_count": 55,
     "metadata": {},
     "output_type": "execute_result"
    }
   ],
   "source": [
    "test[file_n][\"qas\"]"
   ]
  },
  {
   "cell_type": "code",
   "execution_count": null,
   "metadata": {},
   "outputs": [],
   "source": []
  }
 ],
 "metadata": {
  "kernelspec": {
   "display_name": "Python 3",
   "language": "python",
   "name": "python3"
  },
  "language_info": {
   "codemirror_mode": {
    "name": "ipython",
    "version": 3
   },
   "file_extension": ".py",
   "mimetype": "text/x-python",
   "name": "python",
   "nbconvert_exporter": "python",
   "pygments_lexer": "ipython3",
   "version": "3.7.2"
  }
 },
 "nbformat": 4,
 "nbformat_minor": 2
}

{
 "cells": [
  {
   "cell_type": "code",
   "execution_count": 2,
   "metadata": {},
   "outputs": [],
   "source": [
    "import json\n",
    "import numpy as np\n",
    "import pandas as pd\n",
    "import seaborn as sns\n",
    "import matplotlib.pyplot as plt\n",
    "%matplotlib inline"
   ]
  },
  {
   "cell_type": "code",
   "execution_count": 3,
   "metadata": {},
   "outputs": [],
   "source": [
    "# Set size and color for plots\n",
    "sns.reset_defaults()\n",
    "sns.set(\n",
    "    rc={'figure.figsize':(6,6)}, \n",
    "    style=\"darkgrid\"\n",
    ")"
   ]
  },
  {
   "cell_type": "code",
   "execution_count": 4,
   "metadata": {},
   "outputs": [],
   "source": [
    "with open(\"../data/n2c2-community-annotations_2010-fan-why-QA/relations_whyqa_ann-v7-share.json\") as json_file:\n",
    "    json_data = json.load(json_file)a"
   ]
  },
  {
   "cell_type": "code",
   "execution_count": 5,
   "metadata": {},
   "outputs": [
    {
     "name": "stdout",
     "output_type": "stream",
     "text": [
      "138\n"
     ]
    }
   ],
   "source": [
    "print(len(json_data['data'][0]['paragraphs']))"
   ]
  },
  {
   "cell_type": "code",
   "execution_count": 6,
   "metadata": {},
   "outputs": [],
   "source": [
    "count = 0\n",
    "data = []\n",
    "for paragraph in json_data['data'][0]['paragraphs']:\n",
    "#     print(len(paragraph['qas']))\n",
    "    d = [paragraph['note_id'], paragraph['context'], len(paragraph['qas'])]\n",
    "    data.append(d)\n",
    "\n",
    "# print(count)"
   ]
  },
  {
   "cell_type": "code",
   "execution_count": 7,
   "metadata": {},
   "outputs": [
    {
     "data": {
      "text/html": [
       "<div>\n",
       "<style scoped>\n",
       "    .dataframe tbody tr th:only-of-type {\n",
       "        vertical-align: middle;\n",
       "    }\n",
       "\n",
       "    .dataframe tbody tr th {\n",
       "        vertical-align: top;\n",
       "    }\n",
       "\n",
       "    .dataframe thead th {\n",
       "        text-align: right;\n",
       "    }\n",
       "</style>\n",
       "<table border=\"1\" class=\"dataframe\">\n",
       "  <thead>\n",
       "    <tr style=\"text-align: right;\">\n",
       "      <th></th>\n",
       "      <th>note_id</th>\n",
       "      <th>context</th>\n",
       "      <th>Number of questions for each paragraph</th>\n",
       "    </tr>\n",
       "  </thead>\n",
       "  <tbody>\n",
       "    <tr>\n",
       "      <th>0</th>\n",
       "      <td>0406.txt</td>\n",
       "      <td>693519617\\nPUOMC\\n2328487\\n769151\\n388371\\n12/...</td>\n",
       "      <td>1</td>\n",
       "    </tr>\n",
       "    <tr>\n",
       "      <th>1</th>\n",
       "      <td>0270.txt</td>\n",
       "      <td>385215362\\nCTMC\\n47531332\\n8504886\\n11/17/2003...</td>\n",
       "      <td>4</td>\n",
       "    </tr>\n",
       "    <tr>\n",
       "      <th>2</th>\n",
       "      <td>0301.txt</td>\n",
       "      <td>Admission Date :\\n2012-05-24\\nDischarge Date :...</td>\n",
       "      <td>1</td>\n",
       "    </tr>\n",
       "    <tr>\n",
       "      <th>3</th>\n",
       "      <td>0178.txt</td>\n",
       "      <td>258418598\\nFIH\\n2044357\\n81841/8e23\\n715555\\n4...</td>\n",
       "      <td>1</td>\n",
       "    </tr>\n",
       "    <tr>\n",
       "      <th>4</th>\n",
       "      <td>record-54.txt</td>\n",
       "      <td>Admission Date :\\n2014-10-21\\nDischarge Date :...</td>\n",
       "      <td>1</td>\n",
       "    </tr>\n",
       "  </tbody>\n",
       "</table>\n",
       "</div>"
      ],
      "text/plain": [
       "         note_id                                            context  \\\n",
       "0       0406.txt  693519617\\nPUOMC\\n2328487\\n769151\\n388371\\n12/...   \n",
       "1       0270.txt  385215362\\nCTMC\\n47531332\\n8504886\\n11/17/2003...   \n",
       "2       0301.txt  Admission Date :\\n2012-05-24\\nDischarge Date :...   \n",
       "3       0178.txt  258418598\\nFIH\\n2044357\\n81841/8e23\\n715555\\n4...   \n",
       "4  record-54.txt  Admission Date :\\n2014-10-21\\nDischarge Date :...   \n",
       "\n",
       "   Number of questions for each paragraph  \n",
       "0                                       1  \n",
       "1                                       4  \n",
       "2                                       1  \n",
       "3                                       1  \n",
       "4                                       1  "
      ]
     },
     "execution_count": 7,
     "metadata": {},
     "output_type": "execute_result"
    }
   ],
   "source": [
    "df = pd.DataFrame(data, columns = ['note_id', 'context', 'Number of questions for each paragraph'])   \n",
    "# print dataframe. \n",
    "df .head()"
   ]
  },
  {
   "cell_type": "code",
   "execution_count": 8,
   "metadata": {},
   "outputs": [
    {
     "data": {
      "text/plain": [
       "245"
      ]
     },
     "execution_count": 8,
     "metadata": {},
     "output_type": "execute_result"
    }
   ],
   "source": [
    "df['Number of questions for each paragraph'].sum()"
   ]
  },
  {
   "cell_type": "code",
   "execution_count": 9,
   "metadata": {
    "scrolled": true
   },
   "outputs": [
    {
     "name": "stdout",
     "output_type": "stream",
     "text": [
      "mean of arr :  7963.594202898551\n",
      "std of arr :  3771.6179986952993\n"
     ]
    }
   ],
   "source": [
    "lns = [len(str(x)) for x in df['context']]\n",
    "print(\"mean of arr : \", np.mean(lns)) \n",
    "print(\"std of arr : \", np.std(lns)) "
   ]
  },
  {
   "cell_type": "code",
   "execution_count": 10,
   "metadata": {},
   "outputs": [
    {
     "name": "stdout",
     "output_type": "stream",
     "text": [
      "Admission Date :\n",
      "2015-01-19\n",
      "Discharge Date :\n",
      "2015-01-22\n",
      "Date of Birth :\n",
      "1948-02-29\n",
      "Sex :\n",
      "F\n",
      "Service :\n",
      "CCU\n",
      "DISCHARGE SUMMARY ADDENDUM : The patient during her admission from 2015-01-19 to 2015-01-22 during that admission she had an echocardiogram which revealed essentially an ejection fraction of 40% with a patent foramen ovale mildly dilated left atrium .\n",
      "It also showed intraseptal and inferior akinesis .\n",
      "Additionally because of her history of contrast allergy , she was given Solu-Medrol 40 milligrams IV prior to the procedure .\n",
      "She did not have any untoward affects or allergic reactions to the procedure .\n",
      "Barbara Gallant , M.D.\n",
      "66-480\n",
      "Dictated By : Troy X. Hall , M.D.\n",
      "MEDQUIST36\n",
      "D : 2015-03-12 18:30\n",
      "T : 2015-03-16 11:19\n",
      "JOB #: 24204\n",
      "Signed electronically by : DR. Barbara Rogers on : WED 2015-03-25 9:51 AM\n",
      "( End of Report )\n"
     ]
    }
   ],
   "source": [
    "for x in df['context']:\n",
    "    if len(str(x)) < 900:\n",
    "        print(x)"
   ]
  },
  {
   "cell_type": "code",
   "execution_count": 11,
   "metadata": {},
   "outputs": [
    {
     "data": {
      "text/plain": [
       "['#66c2a5',\n",
       " '#fc8d62',\n",
       " '#8da0cb',\n",
       " '#e78ac3',\n",
       " '#a6d854',\n",
       " '#ffd92f',\n",
       " '#e5c494',\n",
       " '#b3b3b3']"
      ]
     },
     "execution_count": 11,
     "metadata": {},
     "output_type": "execute_result"
    }
   ],
   "source": [
    "pal = sns.color_palette(\"Set2\")\n",
    "pal.as_hex()"
   ]
  },
  {
   "cell_type": "code",
   "execution_count": 22,
   "metadata": {},
   "outputs": [
    {
     "data": {
      "image/png": "[encoded data removed]",
      "text/plain": [
       "<Figure size 600x600 with 1 Axes>"
      ]
     },
     "metadata": {},
     "output_type": "display_data"
    }
   ],
   "source": [
    "# brewer.pal(n = 8, name = \"Set2\")\n",
    "# [1] \"#66C2A5\" \"#FC8D62\" \"#8DA0CB\" \"#E78AC3\" \"#A6D854\" \"#FFD92F\" \"#E5C494\" \"#B3B3B3\"\n",
    "# palette(brewer.pal(n = 8, name = \"Set2\"))\n",
    "\n",
    "lns = [len(str(x)) for x in df['context']]\n",
    "distplot = sns.distplot(lns, bins=20, kde=True, axlabel='Document length', \n",
    "                        color='#b3b3b3',\n",
    "                        kde_kws={\"color\": '#B1DDF0', \"lw\": 2, \"alpha\":1},\n",
    "             hist_kws={\"linewidth\": 1,\"alpha\": 1})\n",
    "\n",
    "plt.tight_layout()\n",
    "plt.savefig('figure/distplot.png')\n",
    "plt.show()"
   ]
  },
  {
   "cell_type": "code",
   "execution_count": 227,
   "metadata": {},
   "outputs": [],
   "source": [
    "# count = df['context'].str.split().apply(len).value_counts()\n",
    "# count.values"
   ]
  },
  {
   "cell_type": "code",
   "execution_count": 17,
   "metadata": {},
   "outputs": [
    {
     "data": {
      "image/png": "[encoded data removed]",
      "text/plain": [
       "<Figure size 600x600 with 1 Axes>"
      ]
     },
     "metadata": {},
     "output_type": "display_data"
    }
   ],
   "source": [
    "countplot = sns.countplot(df['Number of questions for each paragraph'], color='#b3b3b3',linewidth=1)\n",
    "plt.tight_layout()\n",
    "plt.savefig('figure/countplot.png')\n",
    "plt.show()"
   ]
  },
  {
   "cell_type": "code",
   "execution_count": 17,
   "metadata": {},
   "outputs": [
    {
     "name": "stdout",
     "output_type": "stream",
     "text": [
      "mean of arr :  1.7753623188405796\n",
      "std of arr :  1.2039675710762805\n"
     ]
    }
   ],
   "source": [
    "questions = df['Number of questions for each paragraph'].values\n",
    "print(\"mean of arr : \", np.mean(questions)) \n",
    "print(\"std of arr : \", np.std(questions)) "
   ]
  },
  {
   "cell_type": "code",
   "execution_count": null,
   "metadata": {},
   "outputs": [],
   "source": []
  }
 ],
 "metadata": {
  "kernelspec": {
   "display_name": "Python 3",
   "language": "python",
   "name": "python3"
  },
  "language_info": {
   "codemirror_mode": {
    "name": "ipython",
    "version": 3
   },
   "file_extension": ".py",
   "mimetype": "text/x-python",
   "name": "python",
   "nbconvert_exporter": "python",
   "pygments_lexer": "ipython3",
   "version": "3.7.2"
  }
 },
 "nbformat": 4,
 "nbformat_minor": 2
}
